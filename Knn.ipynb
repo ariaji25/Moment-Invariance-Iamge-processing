{
 "cells": [
  {
   "cell_type": "code",
   "execution_count": 71,
   "metadata": {},
   "outputs": [],
   "source": [
    "import numpy as np  #array\n",
    "import matplotlib.pyplot as plt #plot diagram  \n",
    "import pandas as pd  #membaca file csv"
   ]
  },
  {
   "cell_type": "code",
   "execution_count": 74,
   "metadata": {},
   "outputs": [],
   "source": [
    "# Set and input dataset into KNN\n",
    "dataset = pd.read_csv(\"DatasetSignHand.csv\")\n",
    "y = dataset['Label']\n",
    "x = dataset.drop('Label',axis = 1)\n",
    "x = x.drop('Image', axis = 1)\n",
    "# i =len(x.columns)\n",
    "# print(i)\n",
    "# x = x.drop(x.columns[i-1], axis = 1)\n",
    "# y.replace((0,1,2,3, 4, 5),(0,1,2,3,4,5), inplace=True)#set class"
   ]
  },
  {
   "cell_type": "code",
   "execution_count": null,
   "metadata": {},
   "outputs": [],
   "source": []
  },
  {
   "cell_type": "code",
   "execution_count": 76,
   "metadata": {},
   "outputs": [],
   "source": [
    "from sklearn.model_selection import train_test_split\n",
    "X_train, X_test, y_train, y_test = train_test_split(x,y,test_size=0.33, random_state=5)"
   ]
  },
  {
   "cell_type": "code",
   "execution_count": 83,
   "metadata": {},
   "outputs": [
    {
     "name": "stdout",
     "output_type": "stream",
     "text": [
      "98.60675722744688\n"
     ]
    }
   ],
   "source": [
    "# show the score or akurasi\n",
    "from sklearn.neighbors import KNeighborsClassifier #library KNN\n",
    "clf = KNeighborsClassifier(n_neighbors=1) \n",
    "clf.fit(X_train, y_train)#training\n",
    "print(clf.score(X_test, y_test)*100)#testingnya"
   ]
  },
  {
   "cell_type": "code",
   "execution_count": 85,
   "metadata": {},
   "outputs": [
    {
     "name": "stdout",
     "output_type": "stream",
     "text": [
      "0.033159177986764196\n"
     ]
    }
   ],
   "source": [
    "from sklearn.neural_network import MLPClassifier\n",
    "clf = MLPClassifier(solver='lbfgs', alpha=1e-5,hidden_layer_sizes=(5, 2), random_state=5)\n",
    "clf.fit(X_train, y_train)\n",
    "print(clf.score(X_test, y_test))#testingnya"
   ]
  },
  {
   "cell_type": "code",
   "execution_count": null,
   "metadata": {},
   "outputs": [],
   "source": [
    "from sklearn.svm import SVC\n",
    "svclassifier = SVC(kernel='linear')\n",
    "svclassifier.fit(X_train, y_train)\n",
    "print(svclassifier.score(X_test, y_test))#testingnya"
   ]
  }
 ],
 "metadata": {
  "kernelspec": {
   "display_name": "Python 3",
   "language": "python",
   "name": "python3"
  },
  "language_info": {
   "codemirror_mode": {
    "name": "ipython",
    "version": 3
   },
   "file_extension": ".py",
   "mimetype": "text/x-python",
   "name": "python",
   "nbconvert_exporter": "python",
   "pygments_lexer": "ipython3",
   "version": "3.7.3"
  }
 },
 "nbformat": 4,
 "nbformat_minor": 2
}
