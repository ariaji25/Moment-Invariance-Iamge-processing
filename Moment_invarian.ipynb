{
 "cells": [
  {
   "cell_type": "markdown",
   "metadata": {},
   "source": [
    "# Load the image data here"
   ]
  },
  {
   "cell_type": "code",
   "execution_count": 3,
   "metadata": {},
   "outputs": [],
   "source": [
    "import numpy as np\n",
    "from PIL import Image\n",
    "import matplotlib.pyplot as plt"
   ]
  },
  {
   "cell_type": "code",
   "execution_count": 44,
   "metadata": {},
   "outputs": [
    {
     "data": {
      "text/plain": [
       "<matplotlib.image.AxesImage at 0x7f9de55807b8>"
      ]
     },
     "execution_count": 44,
     "metadata": {},
     "output_type": "execute_result"
    },
    {
     "data": {
      "image/png": "[encoded data removed]",
      "text/plain": [
       "<Figure size 432x288 with 1 Axes>"
      ]
     },
     "metadata": {
      "needs_background": "light"
     },
     "output_type": "display_data"
    }
   ],
   "source": [
    "img = Image.open(\"1/1_IMG_4400.jpg\")\n",
    "datas = img.resize((50,50), Image.NEAREST)\n",
    "datas = datas.convert('YCbCr')\n",
    "datas = np.array(datas)\n",
    "plt.imshow(datas)"
   ]
  },
  {
   "cell_type": "markdown",
   "metadata": {},
   "source": [
    "### Script di atas berfungsi untuk mengambil data file image berfomat .jpg, kemudian image tersebut di conversi dari RGB menu YCbCr color"
   ]
  },
  {
   "cell_type": "code",
   "execution_count": 73,
   "metadata": {},
   "outputs": [
    {
     "data": {
      "text/plain": [
       "array([[0, 0, 1, 1],\n",
       "       [0, 1, 0, 1],\n",
       "       [1, 0, 0, 1],\n",
       "       [1, 0, 0, 1]], dtype=uint8)"
      ]
     },
     "execution_count": 73,
     "metadata": {},
     "output_type": "execute_result"
    },
    {
     "data": {
      "image/png": "[encoded data removed]",
      "text/plain": [
       "<Figure size 432x288 with 1 Axes>"
      ]
     },
     "metadata": {
      "needs_background": "light"
     },
     "output_type": "display_data"
    }
   ],
   "source": [
    "cb_cntrl = datas[:,:,1]\n",
    "cr_cntrl = datas[:,:,2]\n",
    "cr_cntrl=np.array([\n",
    "    [0,0,1,1],\n",
    "    [0,1,0,1],\n",
    "    [1,0,0,1],\n",
    "    [1,0,0,1]\n",
    "], dtype='uint8')\n",
    "plt.imshow(cr_cntrl)\n",
    "cr_cntrl"
   ]
  },
  {
   "cell_type": "markdown",
   "metadata": {},
   "source": [
    "### Ambil central color (Cr) dari YCbCr image yang sudah dibaca untuk mengambil bentuk dari isarat tangan pada image tersebut"
   ]
  },
  {
   "cell_type": "markdown",
   "metadata": {},
   "source": [
    "# Moment Invariance Function"
   ]
  },
  {
   "cell_type": "code",
   "execution_count": 56,
   "metadata": {},
   "outputs": [],
   "source": [
    "def angularSeconMomment(citra):\n",
    "#     \\begin{align*} M= \\sum_{x} \\sum_{y}I(x,y) \\end{align*}\n",
    "    result=0\n",
    "    for i in citra:\n",
    "        for pixel in i:\n",
    "            result=result+pixel\n",
    "    return result\n",
    "\n",
    "def countForMomment(citra, x, y):\n",
    "    \n",
    "#     \\begin{align*} M_{ij} = \\sum_{x} \\sum_{y} x^{i} y^{j} I(x,y) \\end{align*}\n",
    "    result = 0\n",
    "    for i in range(len(citra)):\n",
    "        for j in range(len(citra[0])):\n",
    "            result= result + (((i**x)*(j**y))*(citra[i,j]))\n",
    "    return result\n",
    "\n",
    "def complexMomment(citra):\n",
    "    result = np.zeros([4,4])\n",
    "    for i in range(len(result)):\n",
    "        for j in range(len(result)):\n",
    "            result[i,j]=countForMomment(citra,i,j)\n",
    "    return result\n",
    "\n",
    "def countTheCentralMomemnt(citra,x1,y1,i,j):\n",
    "    result=0\n",
    "    for x in range(len(citra)):\n",
    "        for y in range(len(citra[0])):\n",
    "            result = result + (((x-x1)**i)*((y-y1)**j)*citra[x,y])\n",
    "    return result\n",
    "\n",
    "def centralMomment(citra,x1,y1):\n",
    "    cM = np.zeros([4,4])\n",
    "    for i in range(len(cM)):\n",
    "        for j in range(len(cM)):\n",
    "            cM[i,j]=countTheCentralMomemnt(citra,x1,y1,i,j)\n",
    "    return cM\n",
    "\n",
    "def centralMomNormilized(cM):\n",
    "    ncM = np.zeros([len(cM),len(cM)])\n",
    "    for i in range(len(cM)):\n",
    "        for j in range(len(cM)):\n",
    "            y=((i+j)/2)+1\n",
    "            ncM[i,j]=cM[i,j]/((cM[0,0])**y)\n",
    "    return ncM\n",
    "\n",
    "def calculateHuMomment(ncM):\n",
    "    h0 = ncM[2,0] + ncM[0,2]\n",
    "    h1 = ((ncM[2,0] - ncM[0,2])**2) + (4*(ncM[1,1])**2)\n",
    "    h2 = (ncM[3,0] - 3*ncM[1,2])**2 + (3*ncM[2,1] - ncM[0,3])**2\n",
    "    h3 = (ncM[3,0] + ncM[1,2])**2 + (ncM[2,1] + ncM[0,3])**2\n",
    "    tmp = ((ncM[3,0]+ncM[1,2])**2) - (3*(ncM[2,1] + ncM[0,3])**2)\n",
    "    tmp1 = ((3*(ncM[3,0]+ncM[1,2])**2) - ((ncM[2,1] + ncM[0,3])**2))\n",
    "    h4 = (ncM[3,0] - (3*ncM[1,2])) * (ncM[3,0] + ncM[1,2]) * tmp + ((3*ncM[2,1] - ncM[0,3]) * (ncM[2,1]+ncM[0,3])) * tmp1\n",
    "    tmp = ((ncM[3,0]+ncM[1,2])**2) - ((ncM[2,1] + ncM[0,3])**2)\n",
    "    h5 = (ncM[2,0] - ncM[0,2]) * tmp + ((4*ncM[1,1]) * ((ncM[3,0]+ncM[1,2]) * (ncM[2,1]+ncM[0,3])))\n",
    "    tmp = ((ncM[3,0]+ncM[1,2])**2) - (3*(ncM[2,1] + ncM[0,3])**2)\n",
    "    tmp1 = ((3*(ncM[3,0]+ncM[1,2])**2) - ((ncM[2,1] + ncM[0,3])**2))\n",
    "    h6 = ((3* ncM[2,1] - ncM[0,3]) * ((ncM[3,0] + ncM[1,2])) * tmp) - ((ncM[3,0] - (3*ncM[1,2])) * (ncM[2,1] + ncM[0,3])) * tmp1\n",
    "    h6 = h6 * -1\n",
    "    \n",
    "    return [h0,h1,h2,h3,h4,h5,h6]\n",
    "            "
   ]
  },
  {
   "cell_type": "markdown",
   "metadata": {},
   "source": [
    "# Moment Invariance with My Code"
   ]
  },
  {
   "cell_type": "code",
   "execution_count": 74,
   "metadata": {},
   "outputs": [
    {
     "name": "stdout",
     "output_type": "stream",
     "text": [
      "H 0  :  0.357421875\n",
      "H 1  :  0.013980865478515625\n",
      "H 2  :  0.015853196382522583\n",
      "H 3  :  0.002902299165725708\n",
      "H 4  :  7.475419310232214e-06\n",
      "H 5  :  0.0003265337436459958\n",
      "H 6  :  1.8212140275863924e-05\n"
     ]
    }
   ],
   "source": [
    "M = complexMomment(cr_cntrl)\n",
    "Mii = M[1,0]/M[0,0]\n",
    "Myy = M[0,1]/M[0,0]\n",
    "cM =centralMomment(cr_cntrl,Mii,Myy)\n",
    "ncM = centralMomNormilized(cM)\n",
    "hu = calculateHuMomment(ncM)\n",
    "for i in range(len(hu)):\n",
    "    print(\"H\",i,\" : \" ,hu[i])"
   ]
  },
  {
   "cell_type": "markdown",
   "metadata": {},
   "source": [
    "# Moment Invariance with Open CV"
   ]
  },
  {
   "cell_type": "code",
   "execution_count": 75,
   "metadata": {},
   "outputs": [],
   "source": [
    "import cv2\n",
    "moments = cv2.moments(cr_cntrl)\n",
    "huMoments = cv2.HuMoments(moments)"
   ]
  },
  {
   "cell_type": "code",
   "execution_count": 76,
   "metadata": {},
   "outputs": [
    {
     "name": "stdout",
     "output_type": "stream",
     "text": [
      "0.357421875   \t 0.357421875  \t \t error =  0.0\n",
      "0.013980865478515625   \t 0.013980865478515625  \t \t error =  0.0\n",
      "0.015853196382522586   \t 0.015853196382522583  \t \t error =  3.469446951953614e-18\n",
      "0.002902299165725708   \t 0.002902299165725708  \t \t error =  0.0\n",
      "7.475419310232213e-06   \t 7.475419310232214e-06  \t \t error =  8.470329472543003e-22\n",
      "0.00032653374364599586   \t 0.0003265337436459958  \t \t error =  5.421010862427522e-20\n",
      "1.8212140275863937e-05   \t 1.8212140275863924e-05  \t \t error =  1.3552527156068805e-20\n"
     ]
    }
   ],
   "source": [
    "hu1 = np.array(huMoments)\n",
    "hu1 = hu1[:,0]\n",
    "\n",
    "for i in range(len(huMoments)):\n",
    "    print(hu1[i],\"  \\t\",hu[i],\" \\t \\t error = \", abs(hu1[i]-hu[i]))"
   ]
  },
  {
   "cell_type": "code",
   "execution_count": null,
   "metadata": {},
   "outputs": [],
   "source": []
  }
 ],
 "metadata": {
  "kernelspec": {
   "display_name": "Python 3",
   "language": "python",
   "name": "python3"
  },
  "language_info": {
   "codemirror_mode": {
    "name": "ipython",
    "version": 3
   },
   "file_extension": ".py",
   "mimetype": "text/x-python",
   "name": "python",
   "nbconvert_exporter": "python",
   "pygments_lexer": "ipython3",
   "version": "3.7.3"
  }
 },
 "nbformat": 4,
 "nbformat_minor": 2
}
