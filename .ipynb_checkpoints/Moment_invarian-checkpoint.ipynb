{
 "cells": [
  {
   "cell_type": "markdown",
   "metadata": {},
   "source": [
    "# Load the image data here"
   ]
  },
  {
   "cell_type": "code",
   "execution_count": 14,
   "metadata": {},
   "outputs": [],
   "source": [
    "import numpy as np\n",
    "from PIL import Image\n",
    "import matplotlib.pyplot as plt"
   ]
  },
  {
   "cell_type": "code",
   "execution_count": 17,
   "metadata": {},
   "outputs": [
    {
     "data": {
      "text/plain": [
       "<matplotlib.image.AxesImage at 0x7f6a4b372ba8>"
      ]
     },
     "execution_count": 17,
     "metadata": {},
     "output_type": "execute_result"
    },
    {
     "data": {
      "image/png": "[encoded data removed]",
      "text/plain": [
       "<Figure size 432x288 with 1 Axes>"
      ]
     },
     "metadata": {
      "needs_background": "light"
     },
     "output_type": "display_data"
    }
   ],
   "source": [
    "img = Image.open(\"1/1_IMG_4390.jpg\")\n",
    "datas = img.resize((50,50), Image.NEAREST)\n",
    "datas = datas.convert('YCbCr')\n",
    "datas = np.array(datas)\n",
    "plt.imshow(datas)"
   ]
  },
  {
   "cell_type": "markdown",
   "metadata": {},
   "source": [
    "### Script di atas berfungsi untuk mengambil data file image berfomat .jpg, kemudian image tersebut di conversi dari RGB menu YCbCr color"
   ]
  },
  {
   "cell_type": "code",
   "execution_count": 18,
   "metadata": {},
   "outputs": [
    {
     "data": {
      "text/plain": [
       "<matplotlib.image.AxesImage at 0x7f6a4b2c7be0>"
      ]
     },
     "execution_count": 18,
     "metadata": {},
     "output_type": "execute_result"
    },
    {
     "data": {
      "image/png": "[encoded data removed]",
      "text/plain": [
       "<Figure size 432x288 with 1 Axes>"
      ]
     },
     "metadata": {
      "needs_background": "light"
     },
     "output_type": "display_data"
    }
   ],
   "source": [
    "cb_cntrl = datas[:,:,1]\n",
    "cr_cntrl = datas[:,:,2]\n",
    "plt.imshow(cr_cntrl)"
   ]
  },
  {
   "cell_type": "markdown",
   "metadata": {},
   "source": [
    "### Ambil central color (Cr) dari YCbCr image yang sudah dibaca untuk mengambil bentuk dari isarat tangan pada image tersebut"
   ]
  },
  {
   "cell_type": "markdown",
   "metadata": {},
   "source": [
    "# Moment Invariance Function"
   ]
  },
  {
   "cell_type": "code",
   "execution_count": 7,
   "metadata": {},
   "outputs": [],
   "source": [
    "import numpy as nm\n",
    "\n",
    "def angularSeconMomment(citra):\n",
    "#     \\begin{align*} M= \\sum_{x} \\sum_{y}I(x,y) \\end{align*}\n",
    "    result=0\n",
    "    for i in citra:\n",
    "        for pixel in i:\n",
    "            result=result+pixel\n",
    "    return result\n",
    "\n",
    "def countForMomment(citra, x, y):\n",
    "    \n",
    "#     \\begin{align*} M_{ij} = \\sum_{x} \\sum_{y} x^{i} y^{j} I(x,y) \\end{align*}\n",
    "    result = 0\n",
    "    for i in range(len(citra)):\n",
    "        for j in range(len(citra[0])):\n",
    "            result= result + ((i**x)*(j**y))*(citra[i,j])\n",
    "    return result\n",
    "\n",
    "def complexMomment(citra):\n",
    "    result = np.zeros([4,4])\n",
    "    for i in range(len(result)):\n",
    "        for j in range(len(result)):\n",
    "            result[i,j]=countForMomment(citra,i,j)\n",
    "    return result\n",
    "\n",
    "def countTheCentralMomemnt(citra,x1,y1,i,j):\n",
    "    result=0\n",
    "    for x in range(len(citra)):\n",
    "        for y in range(len(citra[0])):\n",
    "            result = result + (((x-x1)**i)*((y-y1)**j)*citra[x,y])\n",
    "    return result\n",
    "\n",
    "def centralMomment(citra,x1,y1):\n",
    "    cM = np.zeros([4,4])\n",
    "    for i in range(len(cM)):\n",
    "        for j in range(len(cM)):\n",
    "            cM[i,j]=countTheCentralMomemnt(citra,x1,y1,i,j)\n",
    "    return cM\n",
    "\n",
    "def centralMomNormilized(cM):\n",
    "    ncM = np.zeros([len(cM),len(cM)])\n",
    "    for i in range(len(cM)):\n",
    "        for j in range(len(cM)):\n",
    "            y=((i+j)/2)+1\n",
    "            ncM[i,j]=cM[i,j]/((cM[0,0])**y)\n",
    "    return ncM\n",
    "\n",
    "def calculateHuMomment(ncM):\n",
    "    h0 = ncM[2,0] + ncM[0,2]\n",
    "    h1 = (ncM[2,0] - ncM[0,2])**2 + (4*(ncM[1,1])**2)\n",
    "    h2 = (ncM[3,0] - 3*ncM[1,2])**2 + (3*ncM[2,1] - ncM[0,3])**2\n",
    "    h3 = (ncM[3,0] + ncM[1,2])**2 + (ncM[2,1] + ncM[0,3])**2\n",
    "    tmp = ((ncM[3,0]+ncM[1,2])**2) - (3*(ncM[2,1] + ncM[0,3])**2)\n",
    "    tmp1 = ((3*(ncM[3,0]+ncM[1,2])**2) - ((ncM[2,1] + ncM[0,3])**2))\n",
    "    h4 = (ncM[3,0] - (3*ncM[1,2])) * (ncM[3,0] + ncM[1,2]) * tmp + ((3*ncM[2,1] - ncM[0,3]) * (ncM[2,1]+ncM[0,3])) * tmp1\n",
    "    tmp = ((ncM[3,0]+ncM[1,2])**2) - ((ncM[2,1] + ncM[0,3])**2)\n",
    "    h5 = (ncM[2,0] - ncM[0,2]) * tmp + ((4*ncM[1,1]) * ((ncM[3,0]+ncM[1,2]) * (ncM[2,1]+ncM[0,3])))\n",
    "    tmp = ((ncM[3,0]+ncM[1,2])**2) - (3*(ncM[2,1] + ncM[0,3])**2)\n",
    "    tmp1 = ((3*(ncM[3,0]+ncM[1,2])**2) - ((ncM[2,1] + ncM[0,3])**2))\n",
    "    h6 = ((3* ncM[2,1] - ncM[0,3]) * ((ncM[3,0] + ncM[1,2])) * tmp) - ((ncM[3,0] - (3*ncM[1,2])) * (ncM[2,1] + ncM[0,3])) * tmp1\n",
    "    h6 = h6 * -1\n",
    "    \n",
    "    return [h0,h1,h2,h3,h4,h5,h6]\n",
    "            "
   ]
  },
  {
   "cell_type": "markdown",
   "metadata": {},
   "source": [
    "# Moment Invariance with My Code"
   ]
  },
  {
   "cell_type": "code",
   "execution_count": 19,
   "metadata": {},
   "outputs": [
    {
     "name": "stdout",
     "output_type": "stream",
     "text": [
      "H 0  :  0.0012322698287377523\n",
      "H 1  :  8.416739645139736e-11\n",
      "H 2  :  6.82817781580551e-14\n",
      "H 3  :  2.3524055020440836e-13\n",
      "H 4  :  2.1172706818448675e-26\n",
      "H 5  :  4.4496284487664025e-19\n",
      "H 6  :  2.0990304868063573e-26\n"
     ]
    }
   ],
   "source": [
    "M = complexMomment(cr_cntrl)\n",
    "Mii = M[1,0]/M[0,0]\n",
    "Myy = M[0,1]/M[0,0]\n",
    "cM =centralMomment(cr_cntrl,Mii,Myy)\n",
    "ncM = centralMomNormilized(cM)\n",
    "hu = calculateHuMomment(ncM)\n",
    "for i in range(len(hu)):\n",
    "    print(\"H\",i,\" : \" ,hu[i])"
   ]
  },
  {
   "cell_type": "markdown",
   "metadata": {},
   "source": [
    "# Moment Invariance with Open CV"
   ]
  },
  {
   "cell_type": "code",
   "execution_count": 20,
   "metadata": {},
   "outputs": [
    {
     "name": "stdout",
     "output_type": "stream",
     "text": [
      "0.0012322698287377523\n",
      "8.416739645139281e-11\n",
      "6.828177815807247e-14\n",
      "2.3524055020441527e-13\n",
      "2.1172706818446632e-26\n",
      "4.449628448768597e-19\n",
      "2.0990304868072897e-26\n"
     ]
    }
   ],
   "source": [
    "import cv2\n",
    "moments = cv2.moments(cr_cntrl)\n",
    "huMoments = cv2.HuMoments(moments)\n",
    "\n",
    "for i in huMoments:\n",
    "    for j in i:\n",
    "        print(j)"
   ]
  },
  {
   "cell_type": "code",
   "execution_count": null,
   "metadata": {},
   "outputs": [],
   "source": []
  }
 ],
 "metadata": {
  "kernelspec": {
   "display_name": "Python 3",
   "language": "python",
   "name": "python3"
  },
  "language_info": {
   "codemirror_mode": {
    "name": "ipython",
    "version": 3
   },
   "file_extension": ".py",
   "mimetype": "text/x-python",
   "name": "python",
   "nbconvert_exporter": "python",
   "pygments_lexer": "ipython3",
   "version": "3.7.3"
  }
 },
 "nbformat": 4,
 "nbformat_minor": 2
}
