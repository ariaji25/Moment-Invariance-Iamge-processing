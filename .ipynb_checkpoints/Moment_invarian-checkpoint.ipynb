{
 "cells": [
  {
   "cell_type": "code",
   "execution_count": 78,
   "metadata": {},
   "outputs": [
    {
     "data": {
      "text/plain": [
       "<matplotlib.image.AxesImage at 0x7fba300f6710>"
      ]
     },
     "execution_count": 78,
     "metadata": {},
     "output_type": "execute_result"
    },
    {
     "data": {
      "image/png": "[encoded data removed]",
      "text/plain": [
       "<Figure size 432x288 with 1 Axes>"
      ]
     },
     "metadata": {
      "needs_background": "light"
     },
     "output_type": "display_data"
    }
   ],
   "source": [
    "import numpy as np\n",
    "from PIL import Image\n",
    "import matplotlib.pyplot as plt\n",
    "\n",
    "\n",
    "img = Image.open(\"0/0_IMG_5865.jpg\")\n",
    "datas = img.resize((50,50), Image.NEAREST)\n",
    "m,n= datas.size\n",
    "z = np.zeros([m,n])\n",
    "datas = datas.convert('YCbCr')\n",
    "# plt.imshow(datas)\n",
    "datas = np.array(datas)\n",
    "Cb = datas[:,:,1]\n",
    "Cr = datas[:,:,2]\n",
    "nm = np.int_(m/2)\n",
    "nn = np.int_(n/2)\n",
    "centralcolor = datas[:m-10,10:,:]\n",
    "cb_cntrl = centralcolor[:,:,1]\n",
    "cr_cntrl = centralcolor[:,:,2]\n",
    "# Cb_Difference = 15\n",
    "# Cr_Difference = 10\n",
    "# print(cb_cntrl,cr_cntrl\n",
    "plt.imshow(cr_cntrl)"
   ]
  },
  {
   "cell_type": "code",
   "execution_count": 17,
   "metadata": {},
   "outputs": [
    {
     "data": {
      "text/plain": [
       "4"
      ]
     },
     "execution_count": 17,
     "metadata": {},
     "output_type": "execute_result"
    }
   ],
   "source": [
    "2**2"
   ]
  },
  {
   "cell_type": "code",
   "execution_count": 152,
   "metadata": {},
   "outputs": [],
   "source": [
    "import numpy as nm\n",
    "\n",
    "def angularSeconMomment(citra):\n",
    "#     \\begin{align*} M= \\sum_{x} \\sum_{y}I(x,y) \\end{align*}\n",
    "    result=0\n",
    "    for i in citra:\n",
    "        for pixel in i:\n",
    "            result=result+pixel\n",
    "    return result\n",
    "\n",
    "def countForMomment(citra, x, y):\n",
    "    \n",
    "#     \\begin{align*} M_{ij} = \\sum_{x} \\sum_{y} x^{i} y^{j} I(x,y) \\end{align*}\n",
    "    result = 0\n",
    "    for i in range(len(citra)):\n",
    "        for j in range(len(citra[0])):\n",
    "            result= result + ((i**x)*(j**y))*(citra[i,j])\n",
    "    return result\n",
    "\n",
    "def complexMomment(citra):\n",
    "    result = np.zeros([4,4])\n",
    "    for i in range(len(result)):\n",
    "        for j in range(len(result)):\n",
    "            result[i,j]=countForMomment(citra,i,j)\n",
    "    return result\n",
    "\n",
    "def countTheCentralMomemnt(citra,x1,y1,i,j):\n",
    "    result=0\n",
    "    for x in range(len(citra)):\n",
    "        for y in range(len(citra[0])):\n",
    "            result = result + (((x-x1)**i)*((y-y1)**j)*citra[x,y])\n",
    "    return result\n",
    "\n",
    "def centralMomment(citra,x1,y1):\n",
    "    cM = np.zeros([4,4])\n",
    "    for i in range(len(cM)):\n",
    "        for j in range(len(cM)):\n",
    "            cM[i,j]=countTheCentralMomemnt(citra,x1,y1,i,j)\n",
    "    return cM\n",
    "\n",
    "def centralMomNormilized(cM):\n",
    "    ncM = np.zeros([len(cM),len(cM)])\n",
    "    for i in range(len(cM)):\n",
    "        for j in range(len(cM)):\n",
    "            y=((i+j)/2)+1\n",
    "            ncM[i,j]=cM[i,j]/((cM[0,0])**y)\n",
    "    return ncM\n",
    "\n",
    "def calculateHuMomment(ncM):\n",
    "    h0 = ncM[2,0] + ncM[0,2]\n",
    "    h1 = (ncM[2,0] - ncM[0,2])**2 + 4*(ncM[1,1])**2\n",
    "    h2 = (ncM[3,0] - 3*ncM[1,2])**2 + (3*ncM[2,1] - ncM[0,3])**2\n",
    "    h3 = (ncM[3,0] + ncM[1,2])**2 + (ncM[2,1] - ncM[0,3])**2\n",
    "    tmp = (ncM[3,0] + ncM[1,2])**2 * 3*(ncM[2,1]+ncM[0,3])**2\n",
    "    tmp1 = (3*ncM[2,1] + ncM[0,3]) * (( 3*((ncM[3,0]+ncM[1,2])**2)) - ((ncM[2,1] + ncM[0,3])**2))\n",
    "    h4 = (ncM[3,0] - 3*ncM[1,2]) * (ncM[3,0]+ncM[1,2]) * tmp + tmp1\n",
    "    return [h0,h1,h2,h3,h4]\n",
    "            "
   ]
  },
  {
   "cell_type": "code",
   "execution_count": 150,
   "metadata": {},
   "outputs": [
    {
     "name": "stdout",
     "output_type": "stream",
     "text": [
      "0.0011952014238861438\n",
      "5.40600593976782e-10\n",
      "5.280297655918018e-13\n",
      "1.415118716380937e-13\n",
      "1.7682288876627118e-20\n"
     ]
    }
   ],
   "source": [
    "M = complexMomment(cr_cntrl)\n",
    "Mii = M[1,0]/M[0,0]\n",
    "Myy = M[0,1]/M[0,0]\n",
    "cM =centralMomment(cr_cntrl,Mii,Myy)\n",
    "ncM = centralMomNormilized(cM)\n",
    "hu = calculateHuMomment(ncM)\n",
    "for i in hu:\n",
    "    print(i)"
   ]
  },
  {
   "cell_type": "code",
   "execution_count": 140,
   "metadata": {},
   "outputs": [
    {
     "name": "stdout",
     "output_type": "stream",
     "text": [
      "0.0011952014238861429\n",
      "5.406005939767171e-10\n",
      "5.280297655918201e-13\n",
      "1.567689933840752e-14\n",
      "5.776383097114403e-28\n",
      "7.092329084156826e-20\n",
      "1.304126530508862e-27\n"
     ]
    }
   ],
   "source": [
    "import cv2\n",
    "moments = cv2.moments(cr_cntrl)\n",
    "huMoments = cv2.HuMoments(moments)\n",
    "\n",
    "for i in huMoments:\n",
    "    for j in i:\n",
    "        print(j)"
   ]
  },
  {
   "cell_type": "code",
   "execution_count": 69,
   "metadata": {},
   "outputs": [
    {
     "data": {
      "text/plain": [
       "226019085.0"
      ]
     },
     "execution_count": 69,
     "metadata": {},
     "output_type": "execute_result"
    }
   ],
   "source": [
    "112594164.0 + 113424921.0"
   ]
  }
 ],
 "metadata": {
  "kernelspec": {
   "display_name": "Python 3",
   "language": "python",
   "name": "python3"
  },
  "language_info": {
   "codemirror_mode": {
    "name": "ipython",
    "version": 3
   },
   "file_extension": ".py",
   "mimetype": "text/x-python",
   "name": "python",
   "nbconvert_exporter": "python",
   "pygments_lexer": "ipython3",
   "version": "3.7.3"
  }
 },
 "nbformat": 4,
 "nbformat_minor": 2
}
